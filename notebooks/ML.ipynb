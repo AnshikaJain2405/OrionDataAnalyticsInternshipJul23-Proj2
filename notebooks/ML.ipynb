{
 "cells": [
  {
   "cell_type": "markdown",
   "metadata": {},
   "source": [
    "## Setup"
   ]
  },
  {
   "cell_type": "code",
   "execution_count": 1,
   "metadata": {},
   "outputs": [],
   "source": [
    "import pandas as pd\n",
    "import numpy as np\n",
    "import seaborn as sns\n",
    "import matplotlib.pyplot as plt\n",
    "\n",
    "from sklearn.compose import ColumnTransformer\n",
    "from sklearn.preprocessing import OneHotEncoder, StandardScaler\n",
    "from sklearn.pipeline import make_pipeline\n",
    "from sklearn.linear_model import LinearRegression \n",
    "from sklearn.ensemble import RandomForestRegressor\n",
    "from sklearn.model_selection import train_test_split\n",
    "from sklearn.metrics import r2_score  \n",
    "import joblib\n",
    "import os \n",
    "\n",
    "from src.utils import preprocess_data\n",
    "from src.utils import feature_engg\n"
   ]
  },
  {
   "cell_type": "markdown",
   "metadata": {},
   "source": [
    "## Data Ingestion"
   ]
  },
  {
   "cell_type": "code",
   "execution_count": 2,
   "metadata": {},
   "outputs": [],
   "source": [
    "model_df = pd.read_csv(r\"data\\processed\\cleaned.csv\")"
   ]
  },
  {
   "cell_type": "markdown",
   "metadata": {},
   "source": [
    "## Linear Regression Model"
   ]
  },
  {
   "cell_type": "code",
   "execution_count": 3,
   "metadata": {},
   "outputs": [
    {
     "name": "stdout",
     "output_type": "stream",
     "text": [
      "0.6067557185468784\n"
     ]
    }
   ],
   "source": [
    "X= model_df[['area_type', 'total_sqft', 'bath', 'balcony', 'extract']]\n",
    "Y = model_df['price']\n",
    "\n",
    "# x_train, x_test, y_train, y_test = train_test_split(X, Y, test_size=0.25, random_state=50)\n",
    "\n",
    "column_trans = ColumnTransformer(transformers=\n",
    "                                 [('onehot', OneHotEncoder(), ['area_type', 'extract']),\n",
    "                                  ('scaler', StandardScaler(), ['total_sqft', 'bath', 'balcony'])],\n",
    "                                  remainder='passthrough')\n",
    "\n",
    "pipeline = make_pipeline(column_trans, LinearRegression())\n",
    "\n",
    "pipeline.fit(X, Y)\n",
    "\n",
    "# y_pred = pipeline.predict(x_test)\n",
    "\n",
    "filename = os.path.join(\"models\", \"1st_model_LR.joblib\")\n",
    "joblib.dump(pipeline, filename)\n",
    "\n",
    "loaded_model_LR = joblib.load(filename)\n",
    "result = loaded_model_LR.score(X, Y)\n",
    "print(result)"
   ]
  },
  {
   "cell_type": "markdown",
   "metadata": {},
   "source": [
    "## Random Forest Regressor Model"
   ]
  },
  {
   "cell_type": "code",
   "execution_count": 4,
   "metadata": {},
   "outputs": [
    {
     "name": "stdout",
     "output_type": "stream",
     "text": [
      "0.9008407235508414\n"
     ]
    }
   ],
   "source": [
    "X = model_df[['area_type', 'total_sqft', 'bath', 'balcony', 'extract']]\n",
    "Y = model_df['price']\n",
    "\n",
    "# x_train, x_test, y_train, y_test = train_test_split(X, Y, test_size=0.25, random_state=50)\n",
    "\n",
    "column_trans = ColumnTransformer(transformers=\n",
    "                                 [('onehot', OneHotEncoder(), ['area_type', 'extract']),\n",
    "                                  ('scaler', StandardScaler(), ['total_sqft', 'bath', 'balcony'])],\n",
    "                                  remainder='passthrough')\n",
    "\n",
    "pipeline = make_pipeline(column_trans, RandomForestRegressor())\n",
    "\n",
    "pipeline.fit(X, Y)\n",
    "\n",
    "# y_pred = pipeline.predict(x_test)\n",
    "\n",
    "filename = os.path.join(\"models\", \"1st_model_RF.joblib\")\n",
    "joblib.dump(pipeline, filename)\n",
    "\n",
    "loaded_model_RF1 = joblib.load(filename)\n",
    "result = loaded_model_RF1.score(X, Y)\n",
    "print(result)\n"
   ]
  },
  {
   "cell_type": "markdown",
   "metadata": {},
   "source": [
    "Checking random forest by adding the parameter that was found to be highly correlated during EDA, but we know that since the values in parameter size were very less it is possible that the correlation matrix results are not as accurate."
   ]
  },
  {
   "cell_type": "code",
   "execution_count": 5,
   "metadata": {},
   "outputs": [
    {
     "name": "stdout",
     "output_type": "stream",
     "text": [
      "0.9176388795419264\n"
     ]
    }
   ],
   "source": [
    "X = model_df[['area_type','size','total_sqft', 'bath', 'balcony', 'extract']]\n",
    "Y = model_df['price']\n",
    "\n",
    "# x_train, x_test, y_train, y_test = train_test_split(X, Y, test_size=0.25, random_state=50)\n",
    "\n",
    "column_trans = ColumnTransformer(transformers=\n",
    "                                 [('onehot', OneHotEncoder(), ['area_type', 'extract']),\n",
    "                                  ('scaler', StandardScaler(), ['size','total_sqft', 'bath', 'balcony'])],\n",
    "                                  remainder='passthrough')\n",
    "\n",
    "pipeline = make_pipeline(column_trans, RandomForestRegressor())\n",
    "\n",
    "pipeline.fit(X, Y)\n",
    "\n",
    "# y_pred = pipeline.predict(x_test)\n",
    "\n",
    "filename = os.path.join(\"models\", \"2nd_model_RF.joblib\")\n",
    "joblib.dump(pipeline, filename)\n",
    "\n",
    "loaded_model_RF2 = joblib.load(filename)\n",
    "result = loaded_model_RF2.score(X, Y)\n",
    "print(result)"
   ]
  },
  {
   "cell_type": "markdown",
   "metadata": {},
   "source": [
    "## Evaluation"
   ]
  },
  {
   "cell_type": "markdown",
   "metadata": {},
   "source": [
    "Using the test data to evaluate our models created.\n",
    "- We first read the test file\n",
    "- Then preprocess the test file\n",
    "- Finally we add the new features in the test file"
   ]
  },
  {
   "cell_type": "code",
   "execution_count": 6,
   "metadata": {},
   "outputs": [],
   "source": [
    "test_data = pd.read_csv(r\"data/raw/Test.csv\")\n",
    "clean_test_data = preprocess_data(test_data)\n",
    "clean_test_data = feature_engg(clean_test_data)"
   ]
  },
  {
   "cell_type": "markdown",
   "metadata": {},
   "source": [
    "### Linear Regression"
   ]
  },
  {
   "cell_type": "code",
   "execution_count": 8,
   "metadata": {},
   "outputs": [
    {
     "name": "stdout",
     "output_type": "stream",
     "text": [
      "R-squared value on test data: 1.0\n"
     ]
    },
    {
     "name": "stdout",
     "output_type": "stream",
     "text": [
      "R-squared value on test data: 1.0\n"
     ]
    }
   ],
   "source": [
    "x_test = clean_test_data[['area_type','total_sqft', 'bath', 'balcony', 'extract']]\n",
    "y_pred = clean_test_data['price']\n",
    "\n",
    "y_pred_lr = loaded_model_LR.predict(x_test)\n",
    "result = loaded_model_LR.score(x_test, y_pred_lr)\n",
    "print(\"R-squared value on test data:\", result)"
   ]
  },
  {
   "cell_type": "markdown",
   "metadata": {},
   "source": [
    "### Random Forest"
   ]
  },
  {
   "cell_type": "markdown",
   "metadata": {},
   "source": [
    "Using the first random forest model"
   ]
  },
  {
   "cell_type": "code",
   "execution_count": null,
   "metadata": {},
   "outputs": [],
   "source": [
    "x_test = clean_test_data[['area_type','total_sqft', 'bath', 'balcony', 'extract']]\n",
    "y_pred = clean_test_data['price']\n",
    "\n",
    "y_pred_rf1 = loaded_model_RF1.predict(x_test)\n",
    "result = loaded_model_RF1.score(x_test, y_pred_rf1)\n",
    "print(\"R-squared value on test data:\", result)"
   ]
  },
  {
   "cell_type": "markdown",
   "metadata": {},
   "source": [
    "Using the second random forest model"
   ]
  },
  {
   "cell_type": "code",
   "execution_count": 9,
   "metadata": {},
   "outputs": [
    {
     "name": "stdout",
     "output_type": "stream",
     "text": [
      "R-squared value on test data: 1.0\n"
     ]
    }
   ],
   "source": [
    "x_test = clean_test_data[['area_type','size','total_sqft', 'bath', 'balcony', 'extract']]\n",
    "y_pred = clean_test_data['price']\n",
    "\n",
    "y_pred_rf2 = loaded_model_RF2.predict(x_test)\n",
    "result = loaded_model_RF2.score(x_test, y_pred_rf2)\n",
    "print(\"R-squared value on test data:\", result)"
   ]
  },
  {
   "cell_type": "markdown",
   "metadata": {},
   "source": [
    "## Extracting the file with prices"
   ]
  },
  {
   "cell_type": "code",
   "execution_count": null,
   "metadata": {},
   "outputs": [],
   "source": [
    "file_path = r'data\\final/'\n",
    "file_name = \"test_with_prices.csv\"\n",
    "extract_info = file_path + file_name\n",
    "clean_test_data.to_csv(extract_info)"
   ]
  }
 ],
 "metadata": {
  "kernelspec": {
   "display_name": "Orion2.venv",
   "language": "python",
   "name": "python3"
  },
  "language_info": {
   "codemirror_mode": {
    "name": "ipython",
    "version": 3
   },
   "file_extension": ".py",
   "mimetype": "text/x-python",
   "name": "python",
   "nbconvert_exporter": "python",
   "pygments_lexer": "ipython3",
   "version": "3.9.13"
  },
  "orig_nbformat": 4
 },
 "nbformat": 4,
 "nbformat_minor": 2
}
