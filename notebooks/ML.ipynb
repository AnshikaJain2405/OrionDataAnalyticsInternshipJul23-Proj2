{
 "cells": [
  {
   "cell_type": "markdown",
   "metadata": {},
   "source": [
    "## Setup"
   ]
  },
  {
   "cell_type": "code",
   "execution_count": 1,
   "metadata": {},
   "outputs": [],
   "source": [
    "import pandas as pd\n",
    "import numpy as np\n",
    "import seaborn as sns\n",
    "import matplotlib.pyplot as plt\n",
    "\n",
    "from sklearn.compose import ColumnTransformer\n",
    "from sklearn.preprocessing import OneHotEncoder, StandardScaler\n",
    "from sklearn.pipeline import make_pipeline\n",
    "from sklearn.linear_model import LinearRegression \n",
    "from sklearn.ensemble import RandomForestRegressor\n",
    "from sklearn.model_selection import train_test_split\n",
    "from sklearn.metrics import r2_score  \n",
    "import joblib\n",
    "import os \n",
    "\n",
    "from src.utils import preprocess_data\n",
    "from src.utils import feature_engg\n"
   ]
  },
  {
   "cell_type": "markdown",
   "metadata": {},
   "source": [
    "## Data Ingestion"
   ]
  },
  {
   "cell_type": "code",
   "execution_count": 2,
   "metadata": {},
   "outputs": [],
   "source": [
    "model_df = pd.read_csv(r\"data\\processed\\cleaned.csv\")"
   ]
  },
  {
   "cell_type": "markdown",
   "metadata": {},
   "source": [
    "## Linear Regression Model"
   ]
  },
  {
   "cell_type": "code",
   "execution_count": 3,
   "metadata": {},
   "outputs": [
    {
     "name": "stdout",
     "output_type": "stream",
     "text": [
      "0.6067557185468784\n"
     ]
    }
   ],
   "source": [
    "X= model_df[['area_type', 'total_sqft', 'bath', 'balcony', 'extract']]\n",
    "Y = model_df['price']\n",
    "\n",
    "# x_train, x_test, y_train, y_test = train_test_split(X, Y, test_size=0.25, random_state=50)\n",
    "\n",
    "column_trans = ColumnTransformer(transformers=\n",
    "                                 [('onehot', OneHotEncoder(), ['area_type', 'extract']),\n",
    "                                  ('scaler', StandardScaler(), ['total_sqft', 'bath', 'balcony'])],\n",
    "                                  remainder='passthrough')\n",
    "\n",
    "pipeline = make_pipeline(column_trans, LinearRegression())\n",
    "\n",
    "pipeline.fit(X, Y)\n",
    "\n",
    "# y_pred = pipeline.predict(x_test)\n",
    "\n",
    "filename = os.path.join(\"models\", \"1st_model_LR.joblib\")\n",
    "joblib.dump(pipeline, filename)\n",
    "\n",
    "loaded_model_LR = joblib.load(filename)\n",
    "result = loaded_model_LR.score(X, Y)\n",
    "print(result)"
   ]
  },
  {
   "cell_type": "markdown",
   "metadata": {},
   "source": [
    "## Random Forest Regressor Model"
   ]
  },
  {
   "cell_type": "code",
   "execution_count": 4,
   "metadata": {},
   "outputs": [
    {
     "name": "stdout",
     "output_type": "stream",
     "text": [
      "0.9008407235508414\n"
     ]
    }
   ],
   "source": [
    "X = model_df[['area_type', 'total_sqft', 'bath', 'balcony', 'extract']]\n",
    "Y = model_df['price']\n",
    "\n",
    "# x_train, x_test, y_train, y_test = train_test_split(X, Y, test_size=0.25, random_state=50)\n",
    "\n",
    "column_trans = ColumnTransformer(transformers=\n",
    "                                 [('onehot', OneHotEncoder(), ['area_type', 'extract']),\n",
    "                                  ('scaler', StandardScaler(), ['total_sqft', 'bath', 'balcony'])],\n",
    "                                  remainder='passthrough')\n",
    "\n",
    "pipeline = make_pipeline(column_trans, RandomForestRegressor())\n",
    "\n",
    "pipeline.fit(X, Y)\n",
    "\n",
    "# y_pred = pipeline.predict(x_test)\n",
    "\n",
    "filename = os.path.join(\"models\", \"1st_model_RF.joblib\")\n",
    "joblib.dump(pipeline, filename)\n",
    "\n",
    "loaded_model_RF1 = joblib.load(filename)\n",
    "result = loaded_model_RF1.score(X, Y)\n",
    "print(result)\n"
   ]
  },
  {
   "cell_type": "code",
   "execution_count": 5,
   "metadata": {},
   "outputs": [
    {
     "name": "stdout",
     "output_type": "stream",
     "text": [
      "0.9176388795419264\n"
     ]
    }
   ],
   "source": [
    "X = model_df[['area_type','size','total_sqft', 'bath', 'balcony', 'extract']]\n",
    "Y = model_df['price']\n",
    "\n",
    "# x_train, x_test, y_train, y_test = train_test_split(X, Y, test_size=0.25, random_state=50)\n",
    "\n",
    "column_trans = ColumnTransformer(transformers=\n",
    "                                 [('onehot', OneHotEncoder(), ['area_type', 'extract']),\n",
    "                                  ('scaler', StandardScaler(), ['size','total_sqft', 'bath', 'balcony'])],\n",
    "                                  remainder='passthrough')\n",
    "\n",
    "pipeline = make_pipeline(column_trans, RandomForestRegressor())\n",
    "\n",
    "pipeline.fit(X, Y)\n",
    "\n",
    "# y_pred = pipeline.predict(x_test)\n",
    "\n",
    "filename = os.path.join(\"models\", \"2nd_model_RF.joblib\")\n",
    "joblib.dump(pipeline, filename)\n",
    "\n",
    "loaded_model_RF2 = joblib.load(filename)\n",
    "result = loaded_model_RF2.score(X, Y)\n",
    "print(result)"
   ]
  },
  {
   "cell_type": "markdown",
   "metadata": {},
   "source": [
    "## Evaluation"
   ]
  },
  {
   "cell_type": "code",
   "execution_count": 6,
   "metadata": {},
   "outputs": [],
   "source": [
    "test_data = pd.read_csv(r\"data/raw/Test.csv\")\n",
    "clean_test_data = preprocess_data(test_data)\n",
    "clean_test_data = feature_engg(clean_test_data)"
   ]
  },
  {
   "cell_type": "code",
   "execution_count": 7,
   "metadata": {},
   "outputs": [
    {
     "name": "stdout",
     "output_type": "stream",
     "text": [
      "<class 'pandas.core.frame.DataFrame'>\n",
      "RangeIndex: 1480 entries, 0 to 1479\n",
      "Data columns (total 12 columns):\n",
      " #   Column        Non-Null Count  Dtype  \n",
      "---  ------        --------------  -----  \n",
      " 0   area_type     1480 non-null   object \n",
      " 1   availability  1480 non-null   object \n",
      " 2   location      1480 non-null   object \n",
      " 3   size          1480 non-null   float64\n",
      " 4   society       1480 non-null   object \n",
      " 5   total_sqft    1480 non-null   float64\n",
      " 6   bath          1480 non-null   float64\n",
      " 7   balcony       1480 non-null   float64\n",
      " 8   price         0 non-null      float64\n",
      " 9   month         316 non-null    object \n",
      " 10  ready         1164 non-null   object \n",
      " 11  extract       1480 non-null   object \n",
      "dtypes: float64(5), object(7)\n",
      "memory usage: 138.9+ KB\n"
     ]
    }
   ],
   "source": [
    "clean_test_data.info()"
   ]
  },
  {
   "cell_type": "markdown",
   "metadata": {},
   "source": [
    "### Linear  reg"
   ]
  },
  {
   "cell_type": "code",
   "execution_count": 8,
   "metadata": {},
   "outputs": [
    {
     "name": "stdout",
     "output_type": "stream",
     "text": [
      "R-squared value on test data: 1.0\n"
     ]
    },
    {
     "name": "stdout",
     "output_type": "stream",
     "text": [
      "R-squared value on test data: 1.0\n"
     ]
    }
   ],
   "source": [
    "x_test = clean_test_data[['area_type','total_sqft', 'bath', 'balcony', 'extract']]\n",
    "y_pred = clean_test_data['price']\n",
    "\n",
    "y_pred_lr = loaded_model_LR.predict(x_test)\n",
    "result = loaded_model_LR.score(x_test, y_pred_lr)\n",
    "print(\"R-squared value on test data:\", result)\n",
    "\n",
    "y_pred_rf1 = loaded_model_RF1.predict(x_test)\n",
    "result = loaded_model_RF1.score(x_test, y_pred_rf1)\n",
    "print(\"R-squared value on test data:\", result)"
   ]
  },
  {
   "cell_type": "code",
   "execution_count": 9,
   "metadata": {},
   "outputs": [
    {
     "name": "stdout",
     "output_type": "stream",
     "text": [
      "R-squared value on test data: 1.0\n"
     ]
    }
   ],
   "source": [
    "x_test = clean_test_data[['area_type','size','total_sqft', 'bath', 'balcony', 'extract']]\n",
    "y_pred = clean_test_data['price']\n",
    "\n",
    "y_pred_rf2 = loaded_model_RF2.predict(x_test)\n",
    "result = loaded_model_RF2.score(x_test, y_pred_rf2)\n",
    "print(\"R-squared value on test data:\", result)"
   ]
  }
 ],
 "metadata": {
  "kernelspec": {
   "display_name": "Orion2.venv",
   "language": "python",
   "name": "python3"
  },
  "language_info": {
   "codemirror_mode": {
    "name": "ipython",
    "version": 3
   },
   "file_extension": ".py",
   "mimetype": "text/x-python",
   "name": "python",
   "nbconvert_exporter": "python",
   "pygments_lexer": "ipython3",
   "version": "3.9.13"
  },
  "orig_nbformat": 4
 },
 "nbformat": 4,
 "nbformat_minor": 2
}
